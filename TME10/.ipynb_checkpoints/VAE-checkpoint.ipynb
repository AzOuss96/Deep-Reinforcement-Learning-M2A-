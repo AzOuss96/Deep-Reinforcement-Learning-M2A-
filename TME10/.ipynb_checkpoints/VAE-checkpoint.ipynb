{
 "cells": [
  {
   "cell_type": "code",
   "execution_count": 40,
   "metadata": {},
   "outputs": [],
   "source": [
    "import torch\n",
    "from torch import nn, optim\n",
    "from torch.nn import functional as F\n",
    "from torchvision.datasets import MNIST\n",
    "from torch.utils.data import Dataset, DataLoader\n",
    "from torchvision import datasets, transforms\n",
    "from torchvision.utils import save_image\n",
    "from tqdm import tqdm_notebook as tqdm\n",
    "from PIL import Image\n",
    "from skimage.transform import rescale"
   ]
  },
  {
   "cell_type": "code",
   "execution_count": 48,
   "metadata": {},
   "outputs": [],
   "source": [
    "class VAE(nn.Module):\n",
    "    def __init__(self):\n",
    "        super(VAE, self).__init__()\n",
    "\n",
    "        self.fc1 = nn.Linear(1024, 256)\n",
    "        self.fc21 = nn.Linear(256, 32)\n",
    "        self.fc22 = nn.Linear(256, 32)\n",
    "        self.fc3 = nn.Linear(32, 256)\n",
    "        self.fc4 = nn.Linear(256, 1024)\n",
    "\n",
    "    def encode(self, x):\n",
    "        h1 = F.relu(self.fc1(x))\n",
    "        return self.fc21(h1), self.fc22(h1)\n",
    "\n",
    "    def reparameterize(self, mu, logvar):\n",
    "        std = torch.exp(logvar)\n",
    "        eps = torch.randn_like(std)\n",
    "        return mu + eps*std\n",
    "\n",
    "    def decode(self, z):\n",
    "        h3 = F.relu(self.fc3(z))\n",
    "        return torch.sigmoid(self.fc4(h3))\n",
    "\n",
    "    def forward(self, x):\n",
    "        mu, logvar = self.encode(x.view(-1, 1024))\n",
    "        z = self.reparameterize(mu, logvar)\n",
    "        return self.decode(z), mu, logvar"
   ]
  },
  {
   "cell_type": "code",
   "execution_count": 51,
   "metadata": {},
   "outputs": [],
   "source": [
    "size = 32\n",
    "\n",
    "transform = transforms.Compose([transforms.Resize((size, size)),\n",
    "                                transforms.ToTensor()])\n",
    "\n",
    "train_set = MNIST(root='./',\n",
    "              train=True,\n",
    "             transform=transform)\n",
    "\n",
    "batch_size = 100 \n",
    "\n",
    "train_loader = DataLoader(train_set,\n",
    "                          batch_size=batch_size,\n",
    "                          shuffle=True)"
   ]
  },
  {
   "cell_type": "code",
   "execution_count": 37,
   "metadata": {},
   "outputs": [],
   "source": [
    "to_img = transforms.ToPILImage()"
   ]
  },
  {
   "cell_type": "code",
   "execution_count": null,
   "metadata": {},
   "outputs": [],
   "source": []
  },
  {
   "cell_type": "code",
   "execution_count": 62,
   "metadata": {},
   "outputs": [
    {
     "data": {
      "text/plain": [
       "torch.Size([100, 32])"
      ]
     },
     "execution_count": 62,
     "metadata": {},
     "output_type": "execute_result"
    }
   ],
   "source": [
    "logvar.shape"
   ]
  },
  {
   "cell_type": "code",
   "execution_count": 71,
   "metadata": {},
   "outputs": [
    {
     "data": {
      "text/plain": [
       "tensor([[ 0.1139,  0.0384,  0.0203,  ..., -0.0359,  0.0816,  0.0689],\n",
       "        [-0.0492,  0.0333, -0.0025,  ...,  0.0588,  0.0308,  0.0934],\n",
       "        [ 0.0143,  0.0627,  0.0517,  ...,  0.0518,  0.0173,  0.0838],\n",
       "        ...,\n",
       "        [ 0.2248,  0.0438, -0.0335,  ..., -0.0233,  0.0889, -0.0233],\n",
       "        [ 0.0026, -0.0706, -0.0113,  ...,  0.0094,  0.0566,  0.0636],\n",
       "        [ 0.0038, -0.0367,  0.0395,  ...,  0.0116,  0.0043,  0.0595]],\n",
       "       grad_fn=<AddmmBackward>)"
      ]
     },
     "execution_count": 71,
     "metadata": {},
     "output_type": "execute_result"
    }
   ],
   "source": [
    "mu"
   ]
  },
  {
   "cell_type": "code",
   "execution_count": 73,
   "metadata": {},
   "outputs": [
    {
     "data": {
      "text/plain": [
       "tensor([0.2217, 0.1009, 0.1298, 0.1605, 0.1374, 0.0888, 0.2262, 0.0978, 0.1270,\n",
       "        0.2646, 0.1067, 0.1095, 0.1202, 0.1228, 0.1478, 0.1544, 0.1641, 0.2316,\n",
       "        0.1441, 0.1382, 0.1635, 0.1452, 0.0959, 0.2571, 0.2392, 0.1011, 0.1348,\n",
       "        0.1726, 0.1010, 0.1503, 0.1191, 0.1645, 0.1279, 0.3042, 0.1353, 0.2881,\n",
       "        0.1529, 0.1330, 0.1536, 0.2174, 0.2443, 0.1068, 0.1450, 0.2344, 0.2110,\n",
       "        0.1354, 0.3052, 0.0794, 0.1703, 0.1530, 0.1711, 0.2341, 0.0985, 0.2592,\n",
       "        0.0653, 0.1511, 0.1311, 0.1784, 0.1687, 0.1330, 0.2624, 0.1879, 0.1245,\n",
       "        0.1673, 0.2844, 0.0920, 0.2895, 0.2434, 0.2279, 0.2616, 0.1640, 0.1322,\n",
       "        0.1752, 0.4424, 0.1567, 0.1364, 0.1620, 0.0702, 0.2677, 0.1488, 0.1574,\n",
       "        0.2225, 0.1052, 0.0871, 0.1124, 0.1010, 0.1332, 0.0618, 0.1478, 0.0963,\n",
       "        0.1710, 0.1172, 0.1350, 0.0708, 0.2225, 0.2662, 0.1215, 0.3163, 0.1970,\n",
       "        0.0958], grad_fn=<SumBackward1>)"
      ]
     },
     "execution_count": 73,
     "metadata": {},
     "output_type": "execute_result"
    }
   ],
   "source": [
    "(mu**2).sum(-1)"
   ]
  },
  {
   "cell_type": "code",
   "execution_count": 79,
   "metadata": {},
   "outputs": [
    {
     "data": {
      "text/plain": [
       "tensor([-17.3637, -17.2111, -17.0776, -16.8850, -17.6429, -17.1321, -16.7539,\n",
       "        -16.4896, -16.7945, -16.8663, -17.4297, -16.6156, -17.0123, -16.7586,\n",
       "        -17.4490, -16.6814, -17.3434, -16.7411, -17.0585, -17.0527, -16.8665,\n",
       "        -16.8231, -17.1150, -16.6741, -16.4968, -16.5078, -16.6908, -16.8936,\n",
       "        -16.4616, -16.5188, -17.2821, -16.7395, -16.6372, -16.5404, -17.0022,\n",
       "        -17.1990, -16.4781, -16.6016, -16.3806, -16.8696, -17.2510, -16.6367,\n",
       "        -17.0998, -17.0497, -16.2499, -17.2078, -17.0475, -16.5706, -16.5114,\n",
       "        -16.6305, -16.8924, -16.9757, -16.1624, -16.2294, -16.7861, -17.0978,\n",
       "        -16.9312, -16.8050, -16.7978, -16.6826, -16.8348, -16.9122, -16.7768,\n",
       "        -16.8415, -16.2919, -16.3914, -17.2325, -16.8541, -17.0492, -16.9515,\n",
       "        -16.4518, -17.1926, -16.7693, -16.6878, -16.6501, -16.5239, -17.2847,\n",
       "        -17.2895, -16.8728, -16.9369, -16.9488, -16.5486, -16.8963, -17.4071,\n",
       "        -16.9811, -16.5721, -16.8534, -16.5212, -17.0297, -17.3785, -17.1147,\n",
       "        -16.8214, -17.3047, -16.9671, -17.1525, -16.8184, -16.7810, -16.3502,\n",
       "        -17.0719, -17.0022], grad_fn=<MulBackward0>)"
      ]
     },
     "execution_count": 79,
     "metadata": {},
     "output_type": "execute_result"
    }
   ],
   "source": [
    " -1/2 * ( 1 - (mu**2).sum(-1) + logvar.sum(-1) + torch.exp(logvar).sum(-1))"
   ]
  },
  {
   "cell_type": "code",
   "execution_count": 53,
   "metadata": {},
   "outputs": [
    {
     "data": {
      "application/vnd.jupyter.widget-view+json": {
       "model_id": "f274fd870a5c4e8a84927f404bc47388",
       "version_major": 2,
       "version_minor": 0
      },
      "text/plain": [
       "HBox(children=(IntProgress(value=0, description='Epoch : ', max=20, style=ProgressStyle(description_width='ini…"
      ]
     },
     "metadata": {},
     "output_type": "display_data"
    },
    {
     "data": {
      "application/vnd.jupyter.widget-view+json": {
       "model_id": "5f44cb1cefcb4160ad2de3dd349955c6",
       "version_major": 2,
       "version_minor": 0
      },
      "text/plain": [
       "HBox(children=(IntProgress(value=0, description='Batch loss : ', max=600, style=ProgressStyle(description_widt…"
      ]
     },
     "metadata": {},
     "output_type": "display_data"
    },
    {
     "ename": "KeyboardInterrupt",
     "evalue": "",
     "output_type": "error",
     "traceback": [
      "\u001b[0;31m---------------------------------------------------------------------------\u001b[0m",
      "\u001b[0;31mKeyboardInterrupt\u001b[0m                         Traceback (most recent call last)",
      "\u001b[0;32m<ipython-input-53-296a0bae8970>\u001b[0m in \u001b[0;36m<module>\u001b[0;34m\u001b[0m\n\u001b[1;32m      6\u001b[0m \u001b[0;34m\u001b[0m\u001b[0m\n\u001b[1;32m      7\u001b[0m \u001b[0;32mfor\u001b[0m \u001b[0mepoch\u001b[0m \u001b[0;32min\u001b[0m \u001b[0mt\u001b[0m\u001b[0;34m:\u001b[0m\u001b[0;34m\u001b[0m\u001b[0;34m\u001b[0m\u001b[0m\n\u001b[0;32m----> 8\u001b[0;31m     \u001b[0;32mfor\u001b[0m \u001b[0mbatch_idx\u001b[0m\u001b[0;34m,\u001b[0m \u001b[0;34m(\u001b[0m\u001b[0mimg\u001b[0m\u001b[0;34m,\u001b[0m \u001b[0mlabels\u001b[0m\u001b[0;34m)\u001b[0m \u001b[0;32min\u001b[0m \u001b[0menumerate\u001b[0m\u001b[0;34m(\u001b[0m\u001b[0mtt\u001b[0m\u001b[0;34m)\u001b[0m\u001b[0;34m:\u001b[0m\u001b[0;34m\u001b[0m\u001b[0;34m\u001b[0m\u001b[0m\n\u001b[0m\u001b[1;32m      9\u001b[0m         \u001b[0mimg_recons\u001b[0m\u001b[0;34m,\u001b[0m \u001b[0mmu\u001b[0m\u001b[0;34m,\u001b[0m \u001b[0mlogvar\u001b[0m \u001b[0;34m=\u001b[0m \u001b[0mvae\u001b[0m\u001b[0;34m.\u001b[0m\u001b[0mforward\u001b[0m\u001b[0;34m(\u001b[0m\u001b[0mimg\u001b[0m\u001b[0;34m)\u001b[0m\u001b[0;34m\u001b[0m\u001b[0;34m\u001b[0m\u001b[0m\n",
      "\u001b[0;32m/usr/local/lib/python3.6/dist-packages/tqdm/notebook.py\u001b[0m in \u001b[0;36m__iter__\u001b[0;34m(self, *args, **kwargs)\u001b[0m\n\u001b[1;32m    220\u001b[0m     \u001b[0;32mdef\u001b[0m \u001b[0m__iter__\u001b[0m\u001b[0;34m(\u001b[0m\u001b[0mself\u001b[0m\u001b[0;34m,\u001b[0m \u001b[0;34m*\u001b[0m\u001b[0margs\u001b[0m\u001b[0;34m,\u001b[0m \u001b[0;34m**\u001b[0m\u001b[0mkwargs\u001b[0m\u001b[0;34m)\u001b[0m\u001b[0;34m:\u001b[0m\u001b[0;34m\u001b[0m\u001b[0;34m\u001b[0m\u001b[0m\n\u001b[1;32m    221\u001b[0m         \u001b[0;32mtry\u001b[0m\u001b[0;34m:\u001b[0m\u001b[0;34m\u001b[0m\u001b[0;34m\u001b[0m\u001b[0m\n\u001b[0;32m--> 222\u001b[0;31m             \u001b[0;32mfor\u001b[0m \u001b[0mobj\u001b[0m \u001b[0;32min\u001b[0m \u001b[0msuper\u001b[0m\u001b[0;34m(\u001b[0m\u001b[0mtqdm_notebook\u001b[0m\u001b[0;34m,\u001b[0m \u001b[0mself\u001b[0m\u001b[0;34m)\u001b[0m\u001b[0;34m.\u001b[0m\u001b[0m__iter__\u001b[0m\u001b[0;34m(\u001b[0m\u001b[0;34m*\u001b[0m\u001b[0margs\u001b[0m\u001b[0;34m,\u001b[0m \u001b[0;34m**\u001b[0m\u001b[0mkwargs\u001b[0m\u001b[0;34m)\u001b[0m\u001b[0;34m:\u001b[0m\u001b[0;34m\u001b[0m\u001b[0;34m\u001b[0m\u001b[0m\n\u001b[0m\u001b[1;32m    223\u001b[0m                 \u001b[0;31m# return super(tqdm...) will not catch exception\u001b[0m\u001b[0;34m\u001b[0m\u001b[0;34m\u001b[0m\u001b[0;34m\u001b[0m\u001b[0m\n\u001b[1;32m    224\u001b[0m                 \u001b[0;32myield\u001b[0m \u001b[0mobj\u001b[0m\u001b[0;34m\u001b[0m\u001b[0;34m\u001b[0m\u001b[0m\n",
      "\u001b[0;32m/usr/local/lib/python3.6/dist-packages/tqdm/std.py\u001b[0m in \u001b[0;36m__iter__\u001b[0;34m(self)\u001b[0m\n\u001b[1;32m   1079\u001b[0m             \"\"\"), fp_write=getattr(self.fp, 'write', sys.stderr.write))\n\u001b[1;32m   1080\u001b[0m \u001b[0;34m\u001b[0m\u001b[0m\n\u001b[0;32m-> 1081\u001b[0;31m         \u001b[0;32mfor\u001b[0m \u001b[0mobj\u001b[0m \u001b[0;32min\u001b[0m \u001b[0miterable\u001b[0m\u001b[0;34m:\u001b[0m\u001b[0;34m\u001b[0m\u001b[0;34m\u001b[0m\u001b[0m\n\u001b[0m\u001b[1;32m   1082\u001b[0m             \u001b[0;32myield\u001b[0m \u001b[0mobj\u001b[0m\u001b[0;34m\u001b[0m\u001b[0;34m\u001b[0m\u001b[0m\n\u001b[1;32m   1083\u001b[0m             \u001b[0;31m# Update and possibly print the progressbar.\u001b[0m\u001b[0;34m\u001b[0m\u001b[0;34m\u001b[0m\u001b[0;34m\u001b[0m\u001b[0m\n",
      "\u001b[0;32m/usr/local/lib/python3.6/dist-packages/torch/utils/data/dataloader.py\u001b[0m in \u001b[0;36m__next__\u001b[0;34m(self)\u001b[0m\n\u001b[1;32m    344\u001b[0m     \u001b[0;32mdef\u001b[0m \u001b[0m__next__\u001b[0m\u001b[0;34m(\u001b[0m\u001b[0mself\u001b[0m\u001b[0;34m)\u001b[0m\u001b[0;34m:\u001b[0m\u001b[0;34m\u001b[0m\u001b[0;34m\u001b[0m\u001b[0m\n\u001b[1;32m    345\u001b[0m         \u001b[0mindex\u001b[0m \u001b[0;34m=\u001b[0m \u001b[0mself\u001b[0m\u001b[0;34m.\u001b[0m\u001b[0m_next_index\u001b[0m\u001b[0;34m(\u001b[0m\u001b[0;34m)\u001b[0m  \u001b[0;31m# may raise StopIteration\u001b[0m\u001b[0;34m\u001b[0m\u001b[0;34m\u001b[0m\u001b[0m\n\u001b[0;32m--> 346\u001b[0;31m         \u001b[0mdata\u001b[0m \u001b[0;34m=\u001b[0m \u001b[0mself\u001b[0m\u001b[0;34m.\u001b[0m\u001b[0m_dataset_fetcher\u001b[0m\u001b[0;34m.\u001b[0m\u001b[0mfetch\u001b[0m\u001b[0;34m(\u001b[0m\u001b[0mindex\u001b[0m\u001b[0;34m)\u001b[0m  \u001b[0;31m# may raise StopIteration\u001b[0m\u001b[0;34m\u001b[0m\u001b[0;34m\u001b[0m\u001b[0m\n\u001b[0m\u001b[1;32m    347\u001b[0m         \u001b[0;32mif\u001b[0m \u001b[0mself\u001b[0m\u001b[0;34m.\u001b[0m\u001b[0m_pin_memory\u001b[0m\u001b[0;34m:\u001b[0m\u001b[0;34m\u001b[0m\u001b[0;34m\u001b[0m\u001b[0m\n\u001b[1;32m    348\u001b[0m             \u001b[0mdata\u001b[0m \u001b[0;34m=\u001b[0m \u001b[0m_utils\u001b[0m\u001b[0;34m.\u001b[0m\u001b[0mpin_memory\u001b[0m\u001b[0;34m.\u001b[0m\u001b[0mpin_memory\u001b[0m\u001b[0;34m(\u001b[0m\u001b[0mdata\u001b[0m\u001b[0;34m)\u001b[0m\u001b[0;34m\u001b[0m\u001b[0;34m\u001b[0m\u001b[0m\n",
      "\u001b[0;32m/usr/local/lib/python3.6/dist-packages/torch/utils/data/_utils/fetch.py\u001b[0m in \u001b[0;36mfetch\u001b[0;34m(self, possibly_batched_index)\u001b[0m\n\u001b[1;32m     42\u001b[0m     \u001b[0;32mdef\u001b[0m \u001b[0mfetch\u001b[0m\u001b[0;34m(\u001b[0m\u001b[0mself\u001b[0m\u001b[0;34m,\u001b[0m \u001b[0mpossibly_batched_index\u001b[0m\u001b[0;34m)\u001b[0m\u001b[0;34m:\u001b[0m\u001b[0;34m\u001b[0m\u001b[0;34m\u001b[0m\u001b[0m\n\u001b[1;32m     43\u001b[0m         \u001b[0;32mif\u001b[0m \u001b[0mself\u001b[0m\u001b[0;34m.\u001b[0m\u001b[0mauto_collation\u001b[0m\u001b[0;34m:\u001b[0m\u001b[0;34m\u001b[0m\u001b[0;34m\u001b[0m\u001b[0m\n\u001b[0;32m---> 44\u001b[0;31m             \u001b[0mdata\u001b[0m \u001b[0;34m=\u001b[0m \u001b[0;34m[\u001b[0m\u001b[0mself\u001b[0m\u001b[0;34m.\u001b[0m\u001b[0mdataset\u001b[0m\u001b[0;34m[\u001b[0m\u001b[0midx\u001b[0m\u001b[0;34m]\u001b[0m \u001b[0;32mfor\u001b[0m \u001b[0midx\u001b[0m \u001b[0;32min\u001b[0m \u001b[0mpossibly_batched_index\u001b[0m\u001b[0;34m]\u001b[0m\u001b[0;34m\u001b[0m\u001b[0;34m\u001b[0m\u001b[0m\n\u001b[0m\u001b[1;32m     45\u001b[0m         \u001b[0;32melse\u001b[0m\u001b[0;34m:\u001b[0m\u001b[0;34m\u001b[0m\u001b[0;34m\u001b[0m\u001b[0m\n\u001b[1;32m     46\u001b[0m             \u001b[0mdata\u001b[0m \u001b[0;34m=\u001b[0m \u001b[0mself\u001b[0m\u001b[0;34m.\u001b[0m\u001b[0mdataset\u001b[0m\u001b[0;34m[\u001b[0m\u001b[0mpossibly_batched_index\u001b[0m\u001b[0;34m]\u001b[0m\u001b[0;34m\u001b[0m\u001b[0;34m\u001b[0m\u001b[0m\n",
      "\u001b[0;32m/usr/local/lib/python3.6/dist-packages/torch/utils/data/_utils/fetch.py\u001b[0m in \u001b[0;36m<listcomp>\u001b[0;34m(.0)\u001b[0m\n\u001b[1;32m     42\u001b[0m     \u001b[0;32mdef\u001b[0m \u001b[0mfetch\u001b[0m\u001b[0;34m(\u001b[0m\u001b[0mself\u001b[0m\u001b[0;34m,\u001b[0m \u001b[0mpossibly_batched_index\u001b[0m\u001b[0;34m)\u001b[0m\u001b[0;34m:\u001b[0m\u001b[0;34m\u001b[0m\u001b[0;34m\u001b[0m\u001b[0m\n\u001b[1;32m     43\u001b[0m         \u001b[0;32mif\u001b[0m \u001b[0mself\u001b[0m\u001b[0;34m.\u001b[0m\u001b[0mauto_collation\u001b[0m\u001b[0;34m:\u001b[0m\u001b[0;34m\u001b[0m\u001b[0;34m\u001b[0m\u001b[0m\n\u001b[0;32m---> 44\u001b[0;31m             \u001b[0mdata\u001b[0m \u001b[0;34m=\u001b[0m \u001b[0;34m[\u001b[0m\u001b[0mself\u001b[0m\u001b[0;34m.\u001b[0m\u001b[0mdataset\u001b[0m\u001b[0;34m[\u001b[0m\u001b[0midx\u001b[0m\u001b[0;34m]\u001b[0m \u001b[0;32mfor\u001b[0m \u001b[0midx\u001b[0m \u001b[0;32min\u001b[0m \u001b[0mpossibly_batched_index\u001b[0m\u001b[0;34m]\u001b[0m\u001b[0;34m\u001b[0m\u001b[0;34m\u001b[0m\u001b[0m\n\u001b[0m\u001b[1;32m     45\u001b[0m         \u001b[0;32melse\u001b[0m\u001b[0;34m:\u001b[0m\u001b[0;34m\u001b[0m\u001b[0;34m\u001b[0m\u001b[0m\n\u001b[1;32m     46\u001b[0m             \u001b[0mdata\u001b[0m \u001b[0;34m=\u001b[0m \u001b[0mself\u001b[0m\u001b[0;34m.\u001b[0m\u001b[0mdataset\u001b[0m\u001b[0;34m[\u001b[0m\u001b[0mpossibly_batched_index\u001b[0m\u001b[0;34m]\u001b[0m\u001b[0;34m\u001b[0m\u001b[0;34m\u001b[0m\u001b[0m\n",
      "\u001b[0;32m/usr/local/lib/python3.6/dist-packages/torchvision/datasets/mnist.py\u001b[0m in \u001b[0;36m__getitem__\u001b[0;34m(self, index)\u001b[0m\n\u001b[1;32m     93\u001b[0m \u001b[0;34m\u001b[0m\u001b[0m\n\u001b[1;32m     94\u001b[0m         \u001b[0;32mif\u001b[0m \u001b[0mself\u001b[0m\u001b[0;34m.\u001b[0m\u001b[0mtransform\u001b[0m \u001b[0;32mis\u001b[0m \u001b[0;32mnot\u001b[0m \u001b[0;32mNone\u001b[0m\u001b[0;34m:\u001b[0m\u001b[0;34m\u001b[0m\u001b[0;34m\u001b[0m\u001b[0m\n\u001b[0;32m---> 95\u001b[0;31m             \u001b[0mimg\u001b[0m \u001b[0;34m=\u001b[0m \u001b[0mself\u001b[0m\u001b[0;34m.\u001b[0m\u001b[0mtransform\u001b[0m\u001b[0;34m(\u001b[0m\u001b[0mimg\u001b[0m\u001b[0;34m)\u001b[0m\u001b[0;34m\u001b[0m\u001b[0;34m\u001b[0m\u001b[0m\n\u001b[0m\u001b[1;32m     96\u001b[0m \u001b[0;34m\u001b[0m\u001b[0m\n\u001b[1;32m     97\u001b[0m         \u001b[0;32mif\u001b[0m \u001b[0mself\u001b[0m\u001b[0;34m.\u001b[0m\u001b[0mtarget_transform\u001b[0m \u001b[0;32mis\u001b[0m \u001b[0;32mnot\u001b[0m \u001b[0;32mNone\u001b[0m\u001b[0;34m:\u001b[0m\u001b[0;34m\u001b[0m\u001b[0;34m\u001b[0m\u001b[0m\n",
      "\u001b[0;32m/usr/local/lib/python3.6/dist-packages/torchvision/transforms/transforms.py\u001b[0m in \u001b[0;36m__call__\u001b[0;34m(self, img)\u001b[0m\n\u001b[1;32m     59\u001b[0m     \u001b[0;32mdef\u001b[0m \u001b[0m__call__\u001b[0m\u001b[0;34m(\u001b[0m\u001b[0mself\u001b[0m\u001b[0;34m,\u001b[0m \u001b[0mimg\u001b[0m\u001b[0;34m)\u001b[0m\u001b[0;34m:\u001b[0m\u001b[0;34m\u001b[0m\u001b[0;34m\u001b[0m\u001b[0m\n\u001b[1;32m     60\u001b[0m         \u001b[0;32mfor\u001b[0m \u001b[0mt\u001b[0m \u001b[0;32min\u001b[0m \u001b[0mself\u001b[0m\u001b[0;34m.\u001b[0m\u001b[0mtransforms\u001b[0m\u001b[0;34m:\u001b[0m\u001b[0;34m\u001b[0m\u001b[0;34m\u001b[0m\u001b[0m\n\u001b[0;32m---> 61\u001b[0;31m             \u001b[0mimg\u001b[0m \u001b[0;34m=\u001b[0m \u001b[0mt\u001b[0m\u001b[0;34m(\u001b[0m\u001b[0mimg\u001b[0m\u001b[0;34m)\u001b[0m\u001b[0;34m\u001b[0m\u001b[0;34m\u001b[0m\u001b[0m\n\u001b[0m\u001b[1;32m     62\u001b[0m         \u001b[0;32mreturn\u001b[0m \u001b[0mimg\u001b[0m\u001b[0;34m\u001b[0m\u001b[0;34m\u001b[0m\u001b[0m\n\u001b[1;32m     63\u001b[0m \u001b[0;34m\u001b[0m\u001b[0m\n",
      "\u001b[0;32m/usr/local/lib/python3.6/dist-packages/torchvision/transforms/transforms.py\u001b[0m in \u001b[0;36m__call__\u001b[0;34m(self, pic)\u001b[0m\n\u001b[1;32m     90\u001b[0m             \u001b[0mTensor\u001b[0m\u001b[0;34m:\u001b[0m \u001b[0mConverted\u001b[0m \u001b[0mimage\u001b[0m\u001b[0;34m.\u001b[0m\u001b[0;34m\u001b[0m\u001b[0;34m\u001b[0m\u001b[0m\n\u001b[1;32m     91\u001b[0m         \"\"\"\n\u001b[0;32m---> 92\u001b[0;31m         \u001b[0;32mreturn\u001b[0m \u001b[0mF\u001b[0m\u001b[0;34m.\u001b[0m\u001b[0mto_tensor\u001b[0m\u001b[0;34m(\u001b[0m\u001b[0mpic\u001b[0m\u001b[0;34m)\u001b[0m\u001b[0;34m\u001b[0m\u001b[0;34m\u001b[0m\u001b[0m\n\u001b[0m\u001b[1;32m     93\u001b[0m \u001b[0;34m\u001b[0m\u001b[0m\n\u001b[1;32m     94\u001b[0m     \u001b[0;32mdef\u001b[0m \u001b[0m__repr__\u001b[0m\u001b[0;34m(\u001b[0m\u001b[0mself\u001b[0m\u001b[0;34m)\u001b[0m\u001b[0;34m:\u001b[0m\u001b[0;34m\u001b[0m\u001b[0;34m\u001b[0m\u001b[0m\n",
      "\u001b[0;32m/usr/local/lib/python3.6/dist-packages/torchvision/transforms/functional.py\u001b[0m in \u001b[0;36mto_tensor\u001b[0;34m(pic)\u001b[0m\n\u001b[1;32m     84\u001b[0m         \u001b[0mimg\u001b[0m \u001b[0;34m=\u001b[0m \u001b[0;36m255\u001b[0m \u001b[0;34m*\u001b[0m \u001b[0mtorch\u001b[0m\u001b[0;34m.\u001b[0m\u001b[0mfrom_numpy\u001b[0m\u001b[0;34m(\u001b[0m\u001b[0mnp\u001b[0m\u001b[0;34m.\u001b[0m\u001b[0marray\u001b[0m\u001b[0;34m(\u001b[0m\u001b[0mpic\u001b[0m\u001b[0;34m,\u001b[0m \u001b[0mnp\u001b[0m\u001b[0;34m.\u001b[0m\u001b[0muint8\u001b[0m\u001b[0;34m,\u001b[0m \u001b[0mcopy\u001b[0m\u001b[0;34m=\u001b[0m\u001b[0;32mFalse\u001b[0m\u001b[0;34m)\u001b[0m\u001b[0;34m)\u001b[0m\u001b[0;34m\u001b[0m\u001b[0;34m\u001b[0m\u001b[0m\n\u001b[1;32m     85\u001b[0m     \u001b[0;32melse\u001b[0m\u001b[0;34m:\u001b[0m\u001b[0;34m\u001b[0m\u001b[0;34m\u001b[0m\u001b[0m\n\u001b[0;32m---> 86\u001b[0;31m         \u001b[0mimg\u001b[0m \u001b[0;34m=\u001b[0m \u001b[0mtorch\u001b[0m\u001b[0;34m.\u001b[0m\u001b[0mByteTensor\u001b[0m\u001b[0;34m(\u001b[0m\u001b[0mtorch\u001b[0m\u001b[0;34m.\u001b[0m\u001b[0mByteStorage\u001b[0m\u001b[0;34m.\u001b[0m\u001b[0mfrom_buffer\u001b[0m\u001b[0;34m(\u001b[0m\u001b[0mpic\u001b[0m\u001b[0;34m.\u001b[0m\u001b[0mtobytes\u001b[0m\u001b[0;34m(\u001b[0m\u001b[0;34m)\u001b[0m\u001b[0;34m)\u001b[0m\u001b[0;34m)\u001b[0m\u001b[0;34m\u001b[0m\u001b[0;34m\u001b[0m\u001b[0m\n\u001b[0m\u001b[1;32m     87\u001b[0m     \u001b[0;31m# PIL image mode: L, LA, P, I, F, RGB, YCbCr, RGBA, CMYK\u001b[0m\u001b[0;34m\u001b[0m\u001b[0;34m\u001b[0m\u001b[0;34m\u001b[0m\u001b[0m\n\u001b[1;32m     88\u001b[0m     \u001b[0;32mif\u001b[0m \u001b[0mpic\u001b[0m\u001b[0;34m.\u001b[0m\u001b[0mmode\u001b[0m \u001b[0;34m==\u001b[0m \u001b[0;34m'YCbCr'\u001b[0m\u001b[0;34m:\u001b[0m\u001b[0;34m\u001b[0m\u001b[0;34m\u001b[0m\u001b[0m\n",
      "\u001b[0;31mKeyboardInterrupt\u001b[0m: "
     ]
    }
   ],
   "source": [
    "vae = VAE()\n",
    "optimizer = optim.Adam(VAE.parameters())\n",
    "\n",
    "num_epochs = 20\n",
    "\n",
    "t = tqdm(range(num_epochs), desc=\"Epoch : \", leave=False)\n",
    "tt = tqdm(train_loader, desc=\"Batch loss : \", leave=True)\n",
    "\n",
    "\n",
    "for epoch in t:\n",
    "    for batch_idx, (img, labels) in enumerate(tt):\n",
    "        optimizer.zero_grad()\n",
    "        img_recons, mu, logvar = vae.forward(img)\n",
    "        reg_loss = -1/2 * ( 1 - (mu**2).sum(-1) + logvar.sum(-1) + torch.exp(logvar).sum(-1))\n",
    "        reconstruct_loss = torch.norm(img_recons - img, 2)\n",
    "        loss = reg_loss + reconstruct_loss\n",
    "        loss.backward()\n",
    "        optimizer.step()\n",
    "        \n",
    "        "
   ]
  },
  {
   "cell_type": "code",
   "execution_count": 33,
   "metadata": {},
   "outputs": [
    {
     "ename": "NameError",
     "evalue": "name 'math' is not defined",
     "output_type": "error",
     "traceback": [
      "\u001b[0;31m---------------------------------------------------------------------------\u001b[0m",
      "\u001b[0;31mNameError\u001b[0m                                 Traceback (most recent call last)",
      "\u001b[0;32m<ipython-input-33-b1a01eea6359>\u001b[0m in \u001b[0;36m<module>\u001b[0;34m\u001b[0m\n\u001b[0;32m----> 1\u001b[0;31m \u001b[0mmath\u001b[0m\u001b[0;34m.\u001b[0m\u001b[0msqrt\u001b[0m\u001b[0;34m(\u001b[0m\u001b[0;36m2\u001b[0m\u001b[0;34m)\u001b[0m\u001b[0;34m\u001b[0m\u001b[0;34m\u001b[0m\u001b[0m\n\u001b[0m",
      "\u001b[0;31mNameError\u001b[0m: name 'math' is not defined"
     ]
    }
   ],
   "source": [
    "math.sqrt(2)"
   ]
  },
  {
   "cell_type": "code",
   "execution_count": 35,
   "metadata": {},
   "outputs": [
    {
     "data": {
      "text/plain": [
       "tensor([[0.5485, 0.5248, 0.4799, 0.5572, 0.4985, 0.4818, 0.5234, 0.4000, 0.5339,\n",
       "         0.4057, 0.5957, 0.3809, 0.5804, 0.5066, 0.5144, 0.5499, 0.5960, 0.4966,\n",
       "         0.4732, 0.5259, 0.4774, 0.4316, 0.5986, 0.4345, 0.4578, 0.4974, 0.5415,\n",
       "         0.4138],\n",
       "        [0.4521, 0.4829, 0.5307, 0.5876, 0.4198, 0.5240, 0.5369, 0.4386, 0.5195,\n",
       "         0.5282, 0.5321, 0.4821, 0.4364, 0.5054, 0.4895, 0.6017, 0.5718, 0.4702,\n",
       "         0.4975, 0.4521, 0.4642, 0.3850, 0.4494, 0.5334, 0.5009, 0.4993, 0.4255,\n",
       "         0.5243],\n",
       "        [0.5001, 0.4421, 0.4244, 0.4362, 0.4842, 0.4538, 0.4889, 0.5403, 0.5547,\n",
       "         0.4529, 0.4994, 0.4702, 0.4916, 0.4163, 0.5031, 0.5142, 0.4522, 0.4403,\n",
       "         0.4729, 0.4252, 0.4312, 0.4072, 0.4786, 0.4211, 0.5337, 0.3507, 0.5280,\n",
       "         0.4558],\n",
       "        [0.3616, 0.5337, 0.5603, 0.5664, 0.5870, 0.5302, 0.4875, 0.4570, 0.3876,\n",
       "         0.5015, 0.3995, 0.4873, 0.4776, 0.5709, 0.4411, 0.5334, 0.4862, 0.5252,\n",
       "         0.5137, 0.5228, 0.4299, 0.4706, 0.6051, 0.5275, 0.4969, 0.4453, 0.5046,\n",
       "         0.4347],\n",
       "        [0.4702, 0.5067, 0.4235, 0.4494, 0.6327, 0.3630, 0.5251, 0.5810, 0.5037,\n",
       "         0.4020, 0.3900, 0.5608, 0.4498, 0.4776, 0.4779, 0.5272, 0.4521, 0.4369,\n",
       "         0.4375, 0.5158, 0.5346, 0.4904, 0.4651, 0.5298, 0.4672, 0.6006, 0.4354,\n",
       "         0.5482],\n",
       "        [0.5115, 0.4341, 0.5747, 0.4943, 0.5168, 0.4010, 0.4512, 0.5021, 0.4133,\n",
       "         0.3778, 0.4697, 0.3804, 0.5445, 0.4158, 0.6926, 0.5677, 0.5156, 0.5134,\n",
       "         0.5148, 0.4741, 0.5812, 0.4970, 0.5592, 0.5505, 0.5224, 0.5567, 0.4957,\n",
       "         0.5922],\n",
       "        [0.5133, 0.5242, 0.4711, 0.4218, 0.5735, 0.5510, 0.4461, 0.3812, 0.5558,\n",
       "         0.5655, 0.5687, 0.4757, 0.4269, 0.5230, 0.5605, 0.4023, 0.4478, 0.4591,\n",
       "         0.5546, 0.5373, 0.5011, 0.5944, 0.5223, 0.4010, 0.4631, 0.4282, 0.5099,\n",
       "         0.5166],\n",
       "        [0.4889, 0.5927, 0.5744, 0.4165, 0.4164, 0.4922, 0.4016, 0.4888, 0.5346,\n",
       "         0.5145, 0.4203, 0.3929, 0.6314, 0.4968, 0.3610, 0.4571, 0.5078, 0.4826,\n",
       "         0.6237, 0.5466, 0.4812, 0.4685, 0.4761, 0.5239, 0.4822, 0.5816, 0.5388,\n",
       "         0.4272],\n",
       "        [0.5438, 0.5347, 0.5183, 0.5288, 0.5390, 0.4081, 0.4481, 0.4778, 0.4967,\n",
       "         0.4907, 0.4457, 0.4527, 0.5967, 0.4579, 0.4508, 0.5507, 0.5225, 0.4332,\n",
       "         0.4678, 0.4171, 0.4425, 0.4281, 0.4616, 0.5104, 0.5136, 0.5371, 0.4879,\n",
       "         0.4796],\n",
       "        [0.5338, 0.5194, 0.5667, 0.5164, 0.4491, 0.4320, 0.5442, 0.5656, 0.3871,\n",
       "         0.4609, 0.3612, 0.4393, 0.4973, 0.5353, 0.5443, 0.5130, 0.5487, 0.6053,\n",
       "         0.5218, 0.4419, 0.5489, 0.4375, 0.5254, 0.5060, 0.4672, 0.4567, 0.4679,\n",
       "         0.5147],\n",
       "        [0.4649, 0.4278, 0.4952, 0.4637, 0.4700, 0.4966, 0.5908, 0.5252, 0.4838,\n",
       "         0.4772, 0.5392, 0.3721, 0.4471, 0.4657, 0.4491, 0.3675, 0.4799, 0.5116,\n",
       "         0.4967, 0.3958, 0.5155, 0.4833, 0.4910, 0.5026, 0.5531, 0.5514, 0.4255,\n",
       "         0.4226],\n",
       "        [0.4341, 0.4732, 0.5235, 0.4738, 0.4078, 0.5172, 0.4989, 0.4261, 0.5104,\n",
       "         0.4492, 0.4074, 0.4756, 0.5252, 0.5559, 0.5889, 0.6944, 0.4473, 0.5376,\n",
       "         0.4413, 0.5531, 0.5788, 0.4020, 0.5885, 0.4946, 0.5902, 0.5617, 0.4809,\n",
       "         0.4822],\n",
       "        [0.4265, 0.5369, 0.4169, 0.4972, 0.4626, 0.4523, 0.5307, 0.5024, 0.4304,\n",
       "         0.4692, 0.4177, 0.5484, 0.5837, 0.4892, 0.4697, 0.4442, 0.5318, 0.5037,\n",
       "         0.5105, 0.3638, 0.6333, 0.5395, 0.4914, 0.4809, 0.4031, 0.4599, 0.4527,\n",
       "         0.5396],\n",
       "        [0.4617, 0.5301, 0.4955, 0.4817, 0.5481, 0.5232, 0.5289, 0.4857, 0.4775,\n",
       "         0.5074, 0.4793, 0.4916, 0.4804, 0.5461, 0.5689, 0.4489, 0.4540, 0.3932,\n",
       "         0.5258, 0.4707, 0.5592, 0.5168, 0.4625, 0.4525, 0.5013, 0.5243, 0.4294,\n",
       "         0.4962],\n",
       "        [0.5566, 0.5974, 0.6313, 0.6612, 0.5212, 0.5072, 0.4356, 0.5687, 0.5077,\n",
       "         0.5381, 0.5356, 0.5289, 0.5910, 0.5132, 0.4225, 0.4825, 0.4115, 0.5789,\n",
       "         0.4503, 0.3755, 0.4220, 0.5122, 0.5369, 0.4995, 0.4848, 0.3692, 0.5736,\n",
       "         0.5066],\n",
       "        [0.5027, 0.5535, 0.4288, 0.5140, 0.5691, 0.5154, 0.5574, 0.4339, 0.5994,\n",
       "         0.4894, 0.5483, 0.4476, 0.5727, 0.5573, 0.3889, 0.4905, 0.5878, 0.4745,\n",
       "         0.4316, 0.4994, 0.6038, 0.4205, 0.3924, 0.5234, 0.5313, 0.5729, 0.4257,\n",
       "         0.5901],\n",
       "        [0.5585, 0.3611, 0.4576, 0.4503, 0.4867, 0.4652, 0.4859, 0.4592, 0.5712,\n",
       "         0.4817, 0.5392, 0.5386, 0.5237, 0.4327, 0.6028, 0.5425, 0.4936, 0.5207,\n",
       "         0.6182, 0.5260, 0.4497, 0.4111, 0.5394, 0.4882, 0.5625, 0.5875, 0.4739,\n",
       "         0.4771],\n",
       "        [0.4479, 0.6323, 0.4801, 0.4988, 0.5501, 0.5935, 0.4959, 0.4604, 0.5358,\n",
       "         0.5261, 0.5086, 0.4641, 0.5154, 0.4006, 0.4638, 0.4535, 0.6031, 0.4405,\n",
       "         0.4248, 0.3805, 0.5391, 0.4594, 0.4955, 0.5141, 0.4797, 0.3933, 0.5889,\n",
       "         0.5522],\n",
       "        [0.5546, 0.4547, 0.4863, 0.5760, 0.5658, 0.5490, 0.5171, 0.4969, 0.4899,\n",
       "         0.4334, 0.6108, 0.5785, 0.5380, 0.4715, 0.4755, 0.5830, 0.4357, 0.5128,\n",
       "         0.4445, 0.5149, 0.4900, 0.6020, 0.4956, 0.5211, 0.4860, 0.5024, 0.5443,\n",
       "         0.4493],\n",
       "        [0.5013, 0.4345, 0.3868, 0.5077, 0.6087, 0.4645, 0.6667, 0.5737, 0.5758,\n",
       "         0.4129, 0.4583, 0.4246, 0.3857, 0.4741, 0.4921, 0.5230, 0.5190, 0.5295,\n",
       "         0.5941, 0.5111, 0.5340, 0.4810, 0.4937, 0.4700, 0.4765, 0.4424, 0.5280,\n",
       "         0.4910],\n",
       "        [0.3798, 0.5544, 0.5430, 0.4472, 0.5052, 0.6008, 0.5495, 0.4592, 0.5845,\n",
       "         0.4666, 0.4684, 0.5487, 0.5068, 0.3897, 0.4642, 0.3829, 0.5299, 0.5117,\n",
       "         0.4757, 0.6314, 0.4370, 0.4923, 0.4303, 0.5553, 0.5219, 0.4423, 0.6288,\n",
       "         0.4605],\n",
       "        [0.5499, 0.5477, 0.5318, 0.4540, 0.4907, 0.4459, 0.5493, 0.4999, 0.5194,\n",
       "         0.4664, 0.4694, 0.4534, 0.6054, 0.5174, 0.5072, 0.5199, 0.4667, 0.5155,\n",
       "         0.5260, 0.5293, 0.5241, 0.5134, 0.5589, 0.4505, 0.4586, 0.4694, 0.5805,\n",
       "         0.6167],\n",
       "        [0.3998, 0.4655, 0.5179, 0.5632, 0.5425, 0.4106, 0.6139, 0.4899, 0.5904,\n",
       "         0.5353, 0.5050, 0.5543, 0.4851, 0.5237, 0.6163, 0.4854, 0.5404, 0.4088,\n",
       "         0.5630, 0.4157, 0.4316, 0.4097, 0.5563, 0.5693, 0.5250, 0.5784, 0.4168,\n",
       "         0.4165],\n",
       "        [0.6180, 0.6213, 0.4894, 0.5784, 0.4279, 0.4341, 0.5338, 0.5261, 0.4354,\n",
       "         0.4993, 0.5344, 0.5012, 0.4955, 0.5051, 0.5173, 0.4349, 0.3781, 0.5398,\n",
       "         0.5778, 0.5383, 0.4575, 0.5240, 0.4864, 0.5757, 0.4744, 0.4652, 0.4646,\n",
       "         0.4964],\n",
       "        [0.5716, 0.5601, 0.4717, 0.5573, 0.4739, 0.5243, 0.4908, 0.5159, 0.4410,\n",
       "         0.4978, 0.6395, 0.5410, 0.5705, 0.5643, 0.4264, 0.4895, 0.4487, 0.4781,\n",
       "         0.6139, 0.4491, 0.4194, 0.5087, 0.4881, 0.4722, 0.4806, 0.5402, 0.5379,\n",
       "         0.4901],\n",
       "        [0.5856, 0.5080, 0.4940, 0.4913, 0.4382, 0.4542, 0.5165, 0.5157, 0.5362,\n",
       "         0.5392, 0.5462, 0.6177, 0.4884, 0.3655, 0.4892, 0.4534, 0.4814, 0.4417,\n",
       "         0.4699, 0.6686, 0.5089, 0.4182, 0.4629, 0.6216, 0.5205, 0.4687, 0.5389,\n",
       "         0.5549],\n",
       "        [0.4490, 0.4740, 0.5221, 0.4459, 0.4026, 0.5855, 0.4246, 0.5098, 0.5199,\n",
       "         0.5203, 0.4068, 0.5566, 0.5937, 0.5331, 0.4958, 0.6070, 0.4529, 0.5124,\n",
       "         0.4559, 0.5280, 0.4852, 0.5675, 0.5382, 0.4389, 0.5028, 0.5207, 0.5369,\n",
       "         0.5767],\n",
       "        [0.4602, 0.5619, 0.5380, 0.4732, 0.3679, 0.5298, 0.5038, 0.4864, 0.5004,\n",
       "         0.5435, 0.4068, 0.4854, 0.5222, 0.4089, 0.5445, 0.6370, 0.5482, 0.4845,\n",
       "         0.5269, 0.4669, 0.5670, 0.5225, 0.4966, 0.3672, 0.3351, 0.4326, 0.5521,\n",
       "         0.6094]], grad_fn=<SelectBackward>)"
      ]
     },
     "execution_count": 35,
     "metadata": {},
     "output_type": "execute_result"
    }
   ],
   "source": [
    "(img_recons.reshape(batch_size, 28, 28)[0])"
   ]
  }
 ],
 "metadata": {
  "kernelspec": {
   "display_name": "Python 3",
   "language": "python",
   "name": "python3"
  },
  "language_info": {
   "codemirror_mode": {
    "name": "ipython",
    "version": 3
   },
   "file_extension": ".py",
   "mimetype": "text/x-python",
   "name": "python",
   "nbconvert_exporter": "python",
   "pygments_lexer": "ipython3",
   "version": "3.6.9"
  }
 },
 "nbformat": 4,
 "nbformat_minor": 2
}
