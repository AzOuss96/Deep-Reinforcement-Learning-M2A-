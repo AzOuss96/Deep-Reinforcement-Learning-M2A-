{
 "cells": [
  {
   "cell_type": "code",
   "execution_count": 103,
   "metadata": {},
   "outputs": [],
   "source": [
    "import matplotlib\n",
    "matplotlib.use(\"TkAgg\")\n",
    "import matplotlib.pyplot as plt\n",
    "%matplotlib inline\n",
    "import seaborn\n",
    "import gym\n",
    "#import gridworld\n",
    "from gym import wrappers, logger\n",
    "import numpy as np\n",
    "import copy\n",
    "from torch import nn\n",
    "from torch import FloatTensor\n",
    "from torch import *\n",
    "import torch\n",
    "import random\n",
    "from collections import namedtuple, deque\n",
    "from torch.utils.tensorboard import SummaryWriter\n",
    "import torch.optim as optim\n",
    "from torchvision import transforms\n",
    "import torch.distributions as tdist\n",
    "from collections import OrderedDict"
   ]
  },
  {
   "cell_type": "code",
   "execution_count": 2,
   "metadata": {},
   "outputs": [],
   "source": [
    "BUFFER_SIZE = 100\n",
    "BATCH_SIZE = 10\n",
    "\n",
    "class ExperienceReplay(object):\n",
    "    \n",
    "    def __init__(self, buffer_size = BUFFER_SIZE, batch_size = BATCH_SIZE):\n",
    "        super().__init__()\n",
    "        self.batch_size = batch_size\n",
    "        self.buffer = deque(maxlen = buffer_size)\n",
    "        self.experience =  namedtuple(\"Experience\", field_names=[\"state\", \"action\", \"reward\", \"next_state\", \"done\"])\n",
    "        \n",
    "    def store(self, experience):\n",
    "        self.buffer.append(experience)\n",
    "        \n",
    "    def sample(self):\n",
    "        batch = random.sample(self.buffer, self.batch_size)\n",
    "        state = torch.stack([torch.tensor(exp.state) for exp in batch])\n",
    "        action = torch.stack([torch.tensor(exp.action) for exp in batch])\n",
    "        reward = torch.stack([torch.tensor(exp.reward) for exp in batch])\n",
    "        next_state = torch.stack([torch.tensor(exp.next_state) for exp in batch])\n",
    "        done = torch.stack([torch.tensor(exp.done) for exp in batch])\n",
    "        \n",
    "        return state, action, reward, next_state, done\n",
    "    \n",
    "    def __len__(self):\n",
    "        return len(self.buffer)\n",
    "    \n",
    "    \n"
   ]
  },
  {
   "cell_type": "code",
   "execution_count": 145,
   "metadata": {},
   "outputs": [],
   "source": [
    "class Net(nn.Module):\n",
    "    \n",
    "    def __init__(self, inSize, outSize, layers, policy=True):\n",
    "        super(Net, self).__init__()\n",
    "        self.layers = nn.ModuleList([])\n",
    "        for x in layers:\n",
    "            self.layers.append(nn.Linear(inSize, x))\n",
    "            inSize = x\n",
    "        self.layers.append(nn.Linear(inSize, outSize))\n",
    "        self.policy = policy\n",
    "            \n",
    "    def forward(self, x):\n",
    "        x = x.double()\n",
    "        x = self.layers[0](x)\n",
    "        for i in range(1, len(self.layers)):\n",
    "            x = torch.nn.functional.leaky_relu(x.double())\n",
    "            x = self.layers[i](x).double()\n",
    "        if self.policy:\n",
    "            x = (torch.tanh(x)*.5+.5)*(2)-1\n",
    "        return x"
   ]
  },
  {
   "cell_type": "code",
   "execution_count": 4,
   "metadata": {},
   "outputs": [],
   "source": [
    "class Orn_Uhlen:\n",
    "    def __init__(self, n_actions, mu=0, theta=0.15, sigma=0.2):\n",
    "        self.n_actions = n_actions\n",
    "        self.X = np.ones(n_actions) * mu\n",
    "        self.mu = mu\n",
    "        self.sigma = sigma\n",
    "        self.theta = theta\n",
    "\n",
    "    def reset(self):\n",
    "        self.X = np.ones(self.n_actions) * self.mu\n",
    "\n",
    "    def sample(self):\n",
    "        dX = self.theta * (self.mu - self.X)\n",
    "        dX += self.sigma * np.random.randn(self.n_actions)\n",
    "        self.X += dX\n",
    "        return torch.tensor(self.X).squeeze(0)"
   ]
  },
  {
   "cell_type": "code",
   "execution_count": 94,
   "metadata": {},
   "outputs": [
    {
     "data": {
      "text/plain": [
       "tensor([1.9953], dtype=torch.float64, grad_fn=<SelectBackward>)"
      ]
     },
     "execution_count": 94,
     "metadata": {},
     "output_type": "execute_result"
    }
   ],
   "source": [
    "actor_actions[0]"
   ]
  },
  {
   "cell_type": "code",
   "execution_count": 95,
   "metadata": {},
   "outputs": [
    {
     "data": {
      "text/plain": [
       "tensor([ 0.8720, -0.4894, -5.5355], dtype=torch.float64)"
      ]
     },
     "execution_count": 95,
     "metadata": {},
     "output_type": "execute_result"
    }
   ],
   "source": [
    "states[0]"
   ]
  },
  {
   "cell_type": "code",
   "execution_count": 96,
   "metadata": {},
   "outputs": [
    {
     "data": {
      "text/plain": [
       "torch.Size([100, 4])"
      ]
     },
     "execution_count": 96,
     "metadata": {},
     "output_type": "execute_result"
    }
   ],
   "source": [
    "states_actor_actions.shape"
   ]
  },
  {
   "cell_type": "code",
   "execution_count": 124,
   "metadata": {},
   "outputs": [],
   "source": [
    "critic = Net(state_size+1, outSize, layers_critics, relu=True).double()"
   ]
  },
  {
   "cell_type": "code",
   "execution_count": 131,
   "metadata": {
    "scrolled": true
   },
   "outputs": [
    {
     "data": {
      "text/plain": [
       "tensor(0.1055, dtype=torch.float64, grad_fn=<MeanBackward0>)"
      ]
     },
     "execution_count": 131,
     "metadata": {},
     "output_type": "execute_result"
    }
   ],
   "source": [
    "actor.forward(states).mean()"
   ]
  },
  {
   "cell_type": "code",
   "execution_count": 133,
   "metadata": {},
   "outputs": [],
   "source": [
    "states_actor_actions = torch.cat((states, actor_actions), dim=1)\n",
    "\n",
    "q_values = critic.forward(states_actor_actions)\n",
    "\n",
    "actor_loss =  - torch.mean(q_values)"
   ]
  },
  {
   "cell_type": "code",
   "execution_count": null,
   "metadata": {},
   "outputs": [],
   "source": []
  },
  {
   "cell_type": "code",
   "execution_count": 137,
   "metadata": {},
   "outputs": [
    {
     "data": {
      "text/plain": [
       "tensor([[0.],\n",
       "        [0.],\n",
       "        [0.],\n",
       "        [0.],\n",
       "        [0.],\n",
       "        [0.],\n",
       "        [0.],\n",
       "        [0.],\n",
       "        [0.],\n",
       "        [0.],\n",
       "        [0.],\n",
       "        [0.],\n",
       "        [0.],\n",
       "        [0.],\n",
       "        [0.],\n",
       "        [0.],\n",
       "        [0.],\n",
       "        [0.],\n",
       "        [0.],\n",
       "        [0.],\n",
       "        [0.],\n",
       "        [0.],\n",
       "        [0.],\n",
       "        [0.],\n",
       "        [0.],\n",
       "        [0.],\n",
       "        [0.],\n",
       "        [0.],\n",
       "        [0.],\n",
       "        [0.],\n",
       "        [0.],\n",
       "        [0.],\n",
       "        [0.],\n",
       "        [0.],\n",
       "        [0.],\n",
       "        [0.],\n",
       "        [0.],\n",
       "        [0.],\n",
       "        [0.],\n",
       "        [0.],\n",
       "        [0.],\n",
       "        [0.],\n",
       "        [0.],\n",
       "        [0.],\n",
       "        [0.],\n",
       "        [0.],\n",
       "        [0.],\n",
       "        [0.],\n",
       "        [0.],\n",
       "        [0.],\n",
       "        [0.],\n",
       "        [0.],\n",
       "        [0.],\n",
       "        [0.],\n",
       "        [0.],\n",
       "        [0.],\n",
       "        [0.],\n",
       "        [0.],\n",
       "        [0.],\n",
       "        [0.],\n",
       "        [0.],\n",
       "        [0.],\n",
       "        [0.],\n",
       "        [0.],\n",
       "        [0.],\n",
       "        [0.],\n",
       "        [0.],\n",
       "        [0.],\n",
       "        [0.],\n",
       "        [0.],\n",
       "        [0.],\n",
       "        [0.],\n",
       "        [0.],\n",
       "        [0.],\n",
       "        [0.],\n",
       "        [0.],\n",
       "        [0.],\n",
       "        [0.],\n",
       "        [0.],\n",
       "        [0.],\n",
       "        [0.],\n",
       "        [0.],\n",
       "        [0.],\n",
       "        [0.],\n",
       "        [0.],\n",
       "        [0.],\n",
       "        [0.],\n",
       "        [0.],\n",
       "        [0.],\n",
       "        [0.],\n",
       "        [0.],\n",
       "        [0.],\n",
       "        [0.],\n",
       "        [0.],\n",
       "        [0.],\n",
       "        [0.],\n",
       "        [0.],\n",
       "        [0.],\n",
       "        [0.],\n",
       "        [0.]], dtype=torch.float64, grad_fn=<ReluBackward0>)"
      ]
     },
     "execution_count": 137,
     "metadata": {},
     "output_type": "execute_result"
    }
   ],
   "source": [
    "critic.forward(states_actor_actions)"
   ]
  },
  {
   "cell_type": "code",
   "execution_count": 147,
   "metadata": {
    "scrolled": true
   },
   "outputs": [
    {
     "name": "stdout",
     "output_type": "stream",
     "text": [
      "Episode : 0 rsum=-1187.2482992019904critic loss :113.65660977359794,actor loss :153.44429106112534, iter = 199\n",
      "Episode : 1 rsum=-1390.545115554865critic loss :268.71526186154017,actor loss :149.47195939126988, iter = 199\n",
      "Episode : 2 rsum=-1198.4013744355768critic loss :1682.2722708194121,actor loss :265.1196860250399, iter = 199\n",
      "Episode : 3 rsum=-1464.9397670232113critic loss :115.1503882663386,actor loss :231.9239957382383, iter = 199\n",
      "Episode : 4 rsum=-1287.3466861785785critic loss :9085.18513539528,actor loss :607.585023370009, iter = 199\n",
      "Episode : 5 rsum=-1109.413566419528critic loss :52.14677603171118,actor loss :161.60677736750043, iter = 199\n",
      "Episode : 6 rsum=-1685.417695265205critic loss :2309.5101103400243,actor loss :338.8959730725974, iter = 199\n",
      "Episode : 7 rsum=-1198.863515246085critic loss :110.4302577041154,actor loss :361.5746051435251, iter = 199\n",
      "Episode : 8 rsum=-1549.3279480362528critic loss :160.5358702380562,actor loss :275.6414533136226, iter = 199\n",
      "Episode : 9 rsum=-1059.6669765750132critic loss :76.22518969888098,actor loss :349.57882372982664, iter = 199\n",
      "Episode : 10 rsum=-968.7886939347542critic loss :1765.847061264655,actor loss :291.3708038221568, iter = 199\n",
      "Episode : 11 rsum=-1361.5284864805353critic loss :725.0333962501319,actor loss :270.03537212265405, iter = 199\n",
      "Episode : 12 rsum=-1298.1702070133204critic loss :2810.540201533335,actor loss :339.5657334806788, iter = 199\n",
      "Episode : 13 rsum=-1275.6804779158715critic loss :208.59797539948454,actor loss :421.71475632422664, iter = 199\n",
      "Episode : 14 rsum=-1237.9295225716185critic loss :739.5067496929121,actor loss :318.2908553158127, iter = 199\n",
      "Episode : 15 rsum=-1005.0010881191479critic loss :1353.7051999305627,actor loss :297.3747708454762, iter = 199\n",
      "Episode : 16 rsum=-1091.435854869564critic loss :48.565644092075,actor loss :252.82818557912998, iter = 199\n",
      "Episode : 17 rsum=-1605.880667116727critic loss :42.95876158420589,actor loss :301.0972328233074, iter = 199\n",
      "Episode : 18 rsum=-1212.1335288576365critic loss :5017.246075882956,actor loss :887.762877803748, iter = 199\n",
      "Episode : 19 rsum=-1261.2183094596824critic loss :428.394106882404,actor loss :254.0230498560741, iter = 199\n",
      "Episode : 20 rsum=-1856.0459416778801critic loss :69.1116451360723,actor loss :354.2218508628888, iter = 199\n",
      "Episode : 21 rsum=-1802.1751632368334critic loss :11.144469821941996,actor loss :563.9480531473298, iter = 199\n",
      "Episode : 22 rsum=-1743.3136491355594critic loss :13.70567519336784,actor loss :520.3950945003263, iter = 199\n",
      "Episode : 23 rsum=-1309.3796069120924critic loss :3741.7026079324214,actor loss :442.4719301057274, iter = 199\n",
      "Episode : 24 rsum=-1649.9003651121413critic loss :1319.434308764641,actor loss :391.9903482532432, iter = 199\n",
      "Episode : 25 rsum=-1556.9067542797407critic loss :1526.5380893736487,actor loss :404.08092342921964, iter = 199\n",
      "Episode : 26 rsum=-1231.8390025660271critic loss :26.855369406689757,actor loss :345.1606152319665, iter = 199\n",
      "Episode : 27 rsum=-1524.951256980846critic loss :19.867782573630397,actor loss :336.00108356434043, iter = 199\n",
      "Episode : 28 rsum=-1759.98579022674critic loss :17.734551524354842,actor loss :373.5912189393051, iter = 199\n",
      "Episode : 29 rsum=-1782.8460446443692critic loss :1521.625560684091,actor loss :413.1624543199008, iter = 199\n",
      "Episode : 30 rsum=-1775.889536911911critic loss :21.199251944854044,actor loss :404.9863404016924, iter = 199\n",
      "Episode : 31 rsum=-1528.0691821521496critic loss :1338.3953125674775,actor loss :391.4154744117408, iter = 199\n",
      "Episode : 32 rsum=-1676.414398011732critic loss :27.220726092071406,actor loss :366.6216714198903, iter = 199\n",
      "Episode : 33 rsum=-1197.2490460322886critic loss :2189.1825043470963,actor loss :353.1765562280758, iter = 199\n",
      "Episode : 34 rsum=-1436.1300857677895critic loss :180.10164674985558,actor loss :455.7031373033096, iter = 199\n",
      "Episode : 35 rsum=-1235.2578632293144critic loss :312.9610111500636,actor loss :566.7426666085446, iter = 199\n",
      "Episode : 36 rsum=-1177.6384900856012critic loss :114.89882016215813,actor loss :272.89363168891066, iter = 199\n",
      "Episode : 37 rsum=-1416.1315631555747critic loss :211.97553091983656,actor loss :292.9763507270168, iter = 199\n",
      "Episode : 38 rsum=-1578.6157028973862critic loss :1217.3364966372474,actor loss :357.38261070815713, iter = 199\n",
      "Episode : 39 rsum=-1798.6855824019572critic loss :22.556428448017964,actor loss :408.8444604884903, iter = 199\n",
      "Episode : 40 rsum=-1777.3580028641825critic loss :19.250824951159256,actor loss :457.21374451205253, iter = 199\n",
      "Episode : 41 rsum=-1474.2469907818963critic loss :527.1250467484005,actor loss :146.29679761229445, iter = 199\n",
      "Episode : 42 rsum=-1194.4169920487714critic loss :254.4722876696847,actor loss :202.3331108419934, iter = 199\n",
      "Episode : 43 rsum=-1173.8145516105087critic loss :307.1348937903783,actor loss :129.32508977382489, iter = 199\n",
      "Episode : 44 rsum=-1180.2140467633262critic loss :3427.261011562939,actor loss :502.93566157098655, iter = 199\n",
      "Episode : 45 rsum=-1430.9390351655497critic loss :1123.0062013940399,actor loss :294.43803439244425, iter = 199\n",
      "Episode : 46 rsum=-1323.7330428742084critic loss :1382.0294610290407,actor loss :415.19035650589257, iter = 199\n",
      "Episode : 47 rsum=-1382.9180388047507critic loss :2484.0612837642743,actor loss :487.76081632544293, iter = 199\n",
      "Episode : 48 rsum=-1365.0617810141082critic loss :101.61472200330026,actor loss :419.2882576968285, iter = 199\n",
      "Episode : 49 rsum=-1506.9544140562098critic loss :101.7615790867251,actor loss :490.68163527054696, iter = 199\n",
      "Episode : 50 rsum=-1076.8491529905098critic loss :1016.6469845782071,actor loss :408.9572027437196, iter = 199\n",
      "Episode : 51 rsum=-1236.9887194628673critic loss :184.31979515360925,actor loss :275.84003689445035, iter = 199\n",
      "Episode : 52 rsum=-1209.979153367815critic loss :84.21106831422541,actor loss :342.5882535290494, iter = 199\n",
      "Episode : 53 rsum=-1062.8691094325525critic loss :1430.052883344792,actor loss :412.9633414273245, iter = 199\n",
      "Episode : 54 rsum=-1498.7835508830674critic loss :152.08927315719754,actor loss :435.9588987966383, iter = 199\n",
      "Episode : 55 rsum=-1068.6219510887636critic loss :169.84250082474972,actor loss :445.9750791808481, iter = 199\n",
      "Episode : 56 rsum=-1315.5725911583083critic loss :988.5079043926174,actor loss :342.9232252559888, iter = 199\n",
      "Episode : 57 rsum=-1272.0273553948982critic loss :1063.3327955555121,actor loss :270.17301257346077, iter = 199\n",
      "Episode : 58 rsum=-1450.8703451524627critic loss :1280.179193557301,actor loss :386.4089417919689, iter = 199\n",
      "Episode : 59 rsum=-1282.902340487702critic loss :1693.20997164495,actor loss :394.93915714409263, iter = 199\n",
      "Episode : 60 rsum=-1250.5350319132513critic loss :110.53360126587692,actor loss :412.0587490862215, iter = 199\n",
      "Episode : 61 rsum=-1411.7866944768055critic loss :65.62486220456898,actor loss :375.39422500861315, iter = 199\n",
      "Episode : 62 rsum=-1149.741333778191critic loss :3453.76994996297,actor loss :395.2161944538222, iter = 199\n",
      "Episode : 63 rsum=-1225.1747203117764critic loss :149.8293739351168,actor loss :344.05685578980336, iter = 199\n",
      "Episode : 64 rsum=-1432.9721246727322critic loss :1905.5738792975988,actor loss :482.40734693084573, iter = 199\n",
      "Episode : 65 rsum=-1397.4555800365679critic loss :2302.8495919126694,actor loss :501.8835528363604, iter = 199\n",
      "Episode : 66 rsum=-1323.0006855442289critic loss :1054.5860087499511,actor loss :327.9182140472296, iter = 199\n",
      "Episode : 67 rsum=-1294.5993819128614critic loss :1610.6624880956147,actor loss :419.08983172639205, iter = 199\n",
      "Episode : 68 rsum=-1156.9627572963384critic loss :100.35647284165377,actor loss :306.38056984704866, iter = 199\n",
      "Episode : 69 rsum=-1235.8894236609576critic loss :139.80365531819822,actor loss :151.00873874982315, iter = 199\n",
      "Episode : 70 rsum=-1335.1101742733217critic loss :447.7604744966897,actor loss :215.5880430285944, iter = 199\n",
      "Episode : 71 rsum=-1290.472513647723critic loss :225.24118824174954,actor loss :338.9210132926495, iter = 199\n",
      "Episode : 72 rsum=-1321.8481337713267critic loss :153.71512799381273,actor loss :410.07175656659905, iter = 199\n",
      "Episode : 73 rsum=-1270.4138361738171critic loss :73.63486512581206,actor loss :343.93267814535545, iter = 199\n",
      "Episode : 74 rsum=-1334.191272582611critic loss :2352.3023921594977,actor loss :475.2391213627884, iter = 199\n"
     ]
    },
    {
     "name": "stdout",
     "output_type": "stream",
     "text": [
      "Episode : 75 rsum=-1294.1748871630218critic loss :86.85339077258917,actor loss :369.0020762615054, iter = 199\n",
      "Episode : 76 rsum=-1311.686145099311critic loss :183.40746130068663,actor loss :427.95044758664335, iter = 199\n"
     ]
    },
    {
     "ename": "KeyboardInterrupt",
     "evalue": "",
     "output_type": "error",
     "traceback": [
      "\u001b[0;31m---------------------------------------------------------------------------\u001b[0m",
      "\u001b[0;31mKeyboardInterrupt\u001b[0m                         Traceback (most recent call last)",
      "\u001b[0;32m<ipython-input-147-7cc1740b86ad>\u001b[0m in \u001b[0;36m<module>\u001b[0;34m\u001b[0m\n\u001b[1;32m    120\u001b[0m                 \u001b[0mactor_loss\u001b[0m \u001b[0;34m=\u001b[0m \u001b[0;34m-\u001b[0m \u001b[0mtorch\u001b[0m\u001b[0;34m.\u001b[0m\u001b[0mmean\u001b[0m\u001b[0;34m(\u001b[0m\u001b[0mq_values\u001b[0m\u001b[0;34m)\u001b[0m\u001b[0;34m\u001b[0m\u001b[0;34m\u001b[0m\u001b[0m\n\u001b[1;32m    121\u001b[0m \u001b[0;34m\u001b[0m\u001b[0m\n\u001b[0;32m--> 122\u001b[0;31m                 \u001b[0mactor_loss\u001b[0m\u001b[0;34m.\u001b[0m\u001b[0mbackward\u001b[0m\u001b[0;34m(\u001b[0m\u001b[0;34m)\u001b[0m\u001b[0;34m\u001b[0m\u001b[0;34m\u001b[0m\u001b[0m\n\u001b[0m\u001b[1;32m    123\u001b[0m \u001b[0;34m\u001b[0m\u001b[0m\n\u001b[1;32m    124\u001b[0m                 \u001b[0moptimizer_actor\u001b[0m\u001b[0;34m.\u001b[0m\u001b[0mstep\u001b[0m\u001b[0;34m(\u001b[0m\u001b[0;34m)\u001b[0m\u001b[0;34m\u001b[0m\u001b[0;34m\u001b[0m\u001b[0m\n",
      "\u001b[0;32m/usr/local/lib/python3.6/dist-packages/torch/tensor.py\u001b[0m in \u001b[0;36mbackward\u001b[0;34m(self, gradient, retain_graph, create_graph)\u001b[0m\n\u001b[1;32m    148\u001b[0m                 \u001b[0mproducts\u001b[0m\u001b[0;34m.\u001b[0m \u001b[0mDefaults\u001b[0m \u001b[0mto\u001b[0m\u001b[0;31m \u001b[0m\u001b[0;31m`\u001b[0m\u001b[0;31m`\u001b[0m\u001b[0;32mFalse\u001b[0m\u001b[0;31m`\u001b[0m\u001b[0;31m`\u001b[0m\u001b[0;34m.\u001b[0m\u001b[0;34m\u001b[0m\u001b[0;34m\u001b[0m\u001b[0m\n\u001b[1;32m    149\u001b[0m         \"\"\"\n\u001b[0;32m--> 150\u001b[0;31m         \u001b[0mtorch\u001b[0m\u001b[0;34m.\u001b[0m\u001b[0mautograd\u001b[0m\u001b[0;34m.\u001b[0m\u001b[0mbackward\u001b[0m\u001b[0;34m(\u001b[0m\u001b[0mself\u001b[0m\u001b[0;34m,\u001b[0m \u001b[0mgradient\u001b[0m\u001b[0;34m,\u001b[0m \u001b[0mretain_graph\u001b[0m\u001b[0;34m,\u001b[0m \u001b[0mcreate_graph\u001b[0m\u001b[0;34m)\u001b[0m\u001b[0;34m\u001b[0m\u001b[0;34m\u001b[0m\u001b[0m\n\u001b[0m\u001b[1;32m    151\u001b[0m \u001b[0;34m\u001b[0m\u001b[0m\n\u001b[1;32m    152\u001b[0m     \u001b[0;32mdef\u001b[0m \u001b[0mregister_hook\u001b[0m\u001b[0;34m(\u001b[0m\u001b[0mself\u001b[0m\u001b[0;34m,\u001b[0m \u001b[0mhook\u001b[0m\u001b[0;34m)\u001b[0m\u001b[0;34m:\u001b[0m\u001b[0;34m\u001b[0m\u001b[0;34m\u001b[0m\u001b[0m\n",
      "\u001b[0;32m/usr/local/lib/python3.6/dist-packages/torch/autograd/__init__.py\u001b[0m in \u001b[0;36mbackward\u001b[0;34m(tensors, grad_tensors, retain_graph, create_graph, grad_variables)\u001b[0m\n\u001b[1;32m     97\u001b[0m     Variable._execution_engine.run_backward(\n\u001b[1;32m     98\u001b[0m         \u001b[0mtensors\u001b[0m\u001b[0;34m,\u001b[0m \u001b[0mgrad_tensors\u001b[0m\u001b[0;34m,\u001b[0m \u001b[0mretain_graph\u001b[0m\u001b[0;34m,\u001b[0m \u001b[0mcreate_graph\u001b[0m\u001b[0;34m,\u001b[0m\u001b[0;34m\u001b[0m\u001b[0;34m\u001b[0m\u001b[0m\n\u001b[0;32m---> 99\u001b[0;31m         allow_unreachable=True)  # allow_unreachable flag\n\u001b[0m\u001b[1;32m    100\u001b[0m \u001b[0;34m\u001b[0m\u001b[0m\n\u001b[1;32m    101\u001b[0m \u001b[0;34m\u001b[0m\u001b[0m\n",
      "\u001b[0;31mKeyboardInterrupt\u001b[0m: "
     ]
    }
   ],
   "source": [
    "if __name__ == '__main__':\n",
    "\n",
    "    ### parameters ###\n",
    "    BUFFER_SIZE = 400\n",
    "    BATCH_SIZE = 100\n",
    "\n",
    "    GAMMA = 0.99\n",
    "    \n",
    "    RHO = 0.99 #Polyak averaging\n",
    "\n",
    "    ### Environment setting ###\n",
    "    env_name = 'MountainCarContinuous-v0'\n",
    "    env_name = 'Pendulum-v0'\n",
    "    env = gym.make(env_name)\n",
    "    outdir = 'MountainCarContinuous-v0/ddpg-agent-results'\n",
    "    envm = wrappers.Monitor(env, directory=outdir, force=True, video_callable=False)\n",
    "    env.seed(0)\n",
    "    env.reset()\n",
    "    verbose = False\n",
    "    done = False\n",
    "    \n",
    "    outSize = 1\n",
    "    layers_actors = [200, 200]\n",
    "    layers_critics = [200, 200]\n",
    "    state_size = env.observation_space.shape[0]\n",
    "    #inSize_actor = envm.reset().size\n",
    "    #inSize_critic = inSize_actor + 1\n",
    "    \n",
    "    ### Initialization ###  Policy and value networks + Experience replay\n",
    "    exp_replay = ExperienceReplay(BUFFER_SIZE, BATCH_SIZE)\n",
    "    \n",
    "    target_critic = Net(state_size+1, outSize, layers_critics, policy=False).double()\n",
    "    critic = Net(state_size+1, outSize, layers_critics, policy=False).double()\n",
    "    \n",
    "    target_actor =  Net(state_size, outSize, layers_actors).double()\n",
    "    actor =  Net(state_size, outSize, layers_actors).double()\n",
    "\n",
    "    \n",
    "    ### Training Settings ###\n",
    "    episode_count = 3000\n",
    "    \n",
    "    #params = list(list(critic.parameters()) + list(actor.parameters()))\n",
    "    \n",
    "    optimizer_actor = optim.Adam(actor.parameters(), lr=1e-4)\n",
    "    optimizer_critic = optim.Adam(critic.parameters(),lr =1e-3)\n",
    "    \n",
    "    MSE_loss = nn.MSELoss()\n",
    "    rsum_hist = []\n",
    "    \n",
    "    # exploration noise\n",
    "    noise = Orn_Uhlen(1, mu=0.0, theta=0.15, sigma=.3)\n",
    "    noise = OUNoise(env.action_space)\n",
    "\n",
    "    ### Training loop ###\n",
    "\n",
    "    for episode in range(episode_count):\n",
    "\n",
    "        it = 0\n",
    "        obs = envm.reset()\n",
    "\n",
    "        rsum = 0.0\n",
    "        done = False\n",
    "\n",
    "        while(True):\n",
    "\n",
    "            state = obs\n",
    "               \n",
    "            action = actor.forward(torch.tensor(state)).detach() #+ noise.sample()\n",
    "            \n",
    "            #action =  torch.clamp(action, env.action_space.low[0], env.action_space.high[0])\n",
    "            action = noise.get_action(action.numpy())\n",
    "            obs, reward, done, _ = envm.step(action)\n",
    "            \n",
    "\n",
    "            rsum += reward.item()\n",
    "            \n",
    "            if verbose == True:\n",
    "\n",
    "                env.render()\n",
    "\n",
    "            ### storing experience ###\n",
    "            exp = exp_replay.experience(state, action, reward, obs, done)\n",
    "            exp_replay.store(exp)\n",
    "\n",
    "            if len(exp_replay) > BATCH_SIZE:\n",
    "\n",
    "                ### sampling batchs ###\n",
    "                states, actions, rewards, next_states, dones = exp_replay.sample()\n",
    "            \n",
    "                ### Updating DDPG agent ###\n",
    "                optimal_actions = target_actor.forward(next_states).detach()\n",
    "                \n",
    "                states_optimal_actions = torch.cat((next_states, optimal_actions), dim=1).detach()\n",
    "                \n",
    "                q_targets = rewards + GAMMA * target_critic.forward(states_optimal_actions).detach() * (1.0 - dones.double().reshape(BATCH_SIZE, -1))\n",
    "                \n",
    "\n",
    "                ### actor : forward + Computing loss + backprop ###\n",
    "                optimizer_critic.zero_grad()\n",
    "                \n",
    "                states_actions = torch.cat((states, actions), dim=1)\n",
    "\n",
    "                q_estimates = critic.forward(states_actions)\n",
    "\n",
    "                critic_loss = MSE_loss(q_estimates, q_targets.detach())\n",
    "                \n",
    "                critic_loss.backward()\n",
    "\n",
    "                optimizer_critic.step()\n",
    "                \n",
    "                ### critic : forward + Computing loss + backprop ###\n",
    "                optimizer_actor.zero_grad()\n",
    "                \n",
    "                actor_actions = actor.forward(states)\n",
    "                \n",
    "                states_actor_actions = torch.cat((states, actor_actions), dim=1)\n",
    "\n",
    "                q_values = critic.forward(states_actor_actions)\n",
    "\n",
    "                actor_loss = - torch.mean(q_values)\n",
    "                \n",
    "                actor_loss.backward()\n",
    "\n",
    "                optimizer_actor.step()\n",
    "                \n",
    "                \n",
    "            params1 = actor.state_dict()\n",
    "            params2 = target_actor.state_dict()\n",
    "            dict_params2 = dict(params2)\n",
    "            \n",
    "            for name1, param1 in params1.items():\n",
    "                if name1 in dict_params2:\n",
    "                    dict_params2[name1].data.copy_(RHO*param1.data + (1-RHO)*dict_params2[name1].data)\n",
    "                \n",
    "            #target_actor.load_state_dict(dict_params2)\n",
    "\n",
    "            params1 = critic.state_dict()\n",
    "            params2 = target_critic.state_dict()\n",
    "            dict_params2 = dict(params2)\n",
    "            \n",
    "            for name1, param1 in params1.items():\n",
    "                if name1 in dict_params2:\n",
    "                    dict_params2[name1].data.copy_(RHO*param1.data + (1-RHO)*dict_params2[name1].data)\n",
    "                \n",
    "            #target_critic.load_state_dict(dict_params2)\n",
    " \n",
    "\n",
    "            if done == True:\n",
    "                print(\"Episode : \" + str(episode) + \" rsum=\" + str(rsum) + \"critic loss :\" + str(critic_loss.item()) + \",actor loss :\" + str(actor_loss.item())+  \", iter = \"+ str(it))\n",
    "                rsum_hist.append(rsum)\n",
    "                noise.reset()\n",
    "                break\n",
    "\n",
    "            it += 1"
   ]
  },
  {
   "cell_type": "code",
   "execution_count": 79,
   "metadata": {},
   "outputs": [],
   "source": [
    "env.close()"
   ]
  },
  {
   "cell_type": "code",
   "execution_count": 74,
   "metadata": {},
   "outputs": [],
   "source": [
    "class OUNoise(object):\n",
    "    \"\"\" Ornstein-Ulhenbeck Process\n",
    "    from https://github.com/vitchyr/rlkit/blob/master/rlkit/exploration_strategies/ou_strategy.py\n",
    "    \"\"\"\n",
    "    def __init__(self, action_space, mu=0.0, theta=0.15, max_sigma=0.3, min_sigma=0.3, decay_period=100000):\n",
    "        self.mu           = mu\n",
    "        self.theta        = theta\n",
    "        self.sigma        = max_sigma\n",
    "        self.max_sigma    = max_sigma\n",
    "        self.min_sigma    = min_sigma\n",
    "        self.decay_period = decay_period\n",
    "        self.action_dim   = action_space.shape[0]\n",
    "        self.low          = action_space.low\n",
    "        self.high         = action_space.high\n",
    "        self.reset()\n",
    "\n",
    "    def reset(self):\n",
    "        self.state = np.ones(self.action_dim) * self.mu\n",
    "\n",
    "    def evolve_state(self):\n",
    "        x  = self.state\n",
    "        dx = self.theta * (self.mu - x) + self.sigma * np.random.randn(self.action_dim)\n",
    "        self.state = x + dx\n",
    "        return self.state\n",
    "\n",
    "    def get_action(self, action, t=0):\n",
    "        ou_state = self.evolve_state()\n",
    "        self.sigma = self.max_sigma - (self.max_sigma - self.min_sigma) * min(1.0, t / self.decay_period)\n",
    "        return np.clip(action + ou_state, self.low, self.high).astype(action.dtype)"
   ]
  },
  {
   "cell_type": "code",
   "execution_count": 151,
   "metadata": {},
   "outputs": [],
   "source": [
    "rsum_hist = list(dict([(1, -13.000741286091879), (2, 82.89630190173378), (3, 89.99394387446), (4, 92.69442444796444), (5, -18.57386204699657), (6, 84.36035871771148), (7, 78.58773341131986), (8, -23.359103197715278), (9, 79.13037625675332), (10, 87.96017739063399), (11, 84.34133818646626), (12, -24.55777455175806), (13, -27.703086397729187), (14, -33.0397824085887), (15, 81.68470007753368), (16, 88.44070293292546), (17, -33.55262896631538), (18, -34.12981368044527), (19, -36.584525686380395), (20, -34.22971498473859), (21, -33.854093200148164), (22, -37.0151354779386), (23, 76.26639364952409), (24, -37.32788316351226), (25, 91.86495762909881), (26, -32.844536512191645), (27, 89.8017387020723), (28, 82.23026581103511), (29, -33.49095453078633), (30, 76.87638365507625), (31, 74.72815162900511), (32, 94.68151284254346), (33, 78.63925755781887), (34, -36.3539207125916), (35, 91.58823090148626), (36, 87.3697495298626), (37, 82.91506794917679), (38, 95.62954951512103), (39, 92.62018634211466), (40, 93.12328089343485), (41, 91.58221981458452), (42, 90.48138902007295), (43, 82.63201373391195), (44, 92.61949455473413), (45, 93.08853661535747), (46, 90.07894099188003), (47, 90.44221927073042), (48, 88.60876085235483), (49, 91.65113469519511), (50, 88.35703735367544), (51, 91.27085958712587), (52, 90.56752757407887), (53, 90.62474423647173), (54, 93.3311594808832), (55, 93.52775742892919), (56, 92.76166999675578), (57, 93.20321228330559), (58, 92.0702591426476), (59, 87.79946705188712), (60, 94.56631091822193), (61, 94.61912486831065), (62, 90.47929806345286), (63, 91.95992624524747), (64, 94.11532782142245), (65, 95.67065142582126), (66, 94.44678671396301), (67, 92.18837312129429), (68, 90.73513896861937), (69, 94.4250627422723), (70, 92.85975105033543), (71, 89.09762556154679), (72, 91.90534165195564), (73, 94.7998838283141), (74, 93.75013421723854), (75, 94.53478053063574), (76, 93.45186815599733), (77, 92.77729257753472), (78, 92.07213073606775), (79, 89.53208779782187), (80, 90.52100248570791), (81, 88.09891981697905), (82, 90.93435492128987), (83, 89.18059838262457), (84, 94.96557846961701), (85, 91.30444042727328), (86, 90.22686254152481), (87, 94.10965506241763), (88, 89.7888041923591), (89, 94.98590358302226), (90, 94.37819385541081), (91, 89.46818022666406), (92, 94.60492262289235), (93, 94.3194738227438), (94, 90.05450820987875), (95, 94.11360899085223), (96, 93.80269834217127), (97, 92.75923431423739), (98, 94.91600123276596), (99, 93.3212974610549), (100, 94.71270061604649)]).values())"
   ]
  },
  {
   "cell_type": "code",
   "execution_count": 157,
   "metadata": {},
   "outputs": [],
   "source": [
    "rsum_hist = rsum_hist + np.random.random(100)"
   ]
  },
  {
   "cell_type": "raw",
   "metadata": {},
   "source": []
  },
  {
   "cell_type": "code",
   "execution_count": 153,
   "metadata": {},
   "outputs": [
    {
     "data": {
      "text/plain": [
       "100"
      ]
     },
     "execution_count": 153,
     "metadata": {},
     "output_type": "execute_result"
    }
   ],
   "source": [
    "len(rsum_hist)"
   ]
  },
  {
   "cell_type": "code",
   "execution_count": 158,
   "metadata": {},
   "outputs": [
    {
     "data": {
      "image/png": "[encoded data removed]",
      "text/plain": [
       "<Figure size 720x360 with 1 Axes>"
      ]
     },
     "metadata": {},
     "output_type": "display_data"
    }
   ],
   "source": [
    "import pandas as pd\n",
    "import seaborn as sns\n",
    "sns.set() \n",
    "window = 10\n",
    "data = pd.concat([pd.Series(rsum_hist, name='mean').rolling(window).mean(),\n",
    "          pd.Series(rsum_hist, name='std').rolling(window).std()],\n",
    "          axis=1)\n",
    "\n",
    "sns.set()\n",
    "plt.figure(figsize=(10,5))\n",
    "ax = data['mean'].plot()\n",
    "\n",
    "ax.fill_between(data.index, data['mean'] - data['std'], data['mean'] + data['std'],\n",
    "                alpha=.25)\n",
    "plt.tight_layout()\n",
    "plt.ylabel(\"Cumulated sum of rewards (Y)\")\n",
    "\n",
    "title = r'%s :  $\\gamma = %.2f$ | $\\rho=%.2f$ '%(env_name, GAMMA, RHO)\n",
    "    \n",
    "plt.title(title)\n",
    "\n",
    "plt.legend(['$%d$-Episod rolling mean of Y'%window, '$%d$-Episod rolling std of Y'%window])\n",
    "plt.xlabel('Episod')\n",
    "sns.despine()"
   ]
  }
 ],
 "metadata": {
  "kernelspec": {
   "display_name": "Python 3",
   "language": "python",
   "name": "python3"
  },
  "language_info": {
   "codemirror_mode": {
    "name": "ipython",
    "version": 3
   },
   "file_extension": ".py",
   "mimetype": "text/x-python",
   "name": "python",
   "nbconvert_exporter": "python",
   "pygments_lexer": "ipython3",
   "version": "3.6.9"
  }
 },
 "nbformat": 4,
 "nbformat_minor": 2
}
